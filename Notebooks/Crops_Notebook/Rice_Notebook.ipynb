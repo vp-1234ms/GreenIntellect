{
 "cells": [
  {
   "cell_type": "code",
   "execution_count": 6,
   "metadata": {},
   "outputs": [],
   "source": [
    "from tensorflow import keras\n",
    "from keras.models import Model\n",
    "from keras.layers import Input, Conv2D,  BatchNormalization, Add, Activation, MaxPooling2D, concatenate, Flatten, Dense, AveragePooling2D\n",
    "from keras.optimizers import Adam\n",
    "from tensorflow import keras\n",
    "from keras.datasets import mnist\n",
    "from keras.layers import Conv2D, MaxPooling2D,AveragePooling2D\n",
    "from keras.layers import Dense, Flatten\n",
    "from keras.models import Sequential\n",
    "\n",
    "\n",
    "\n",
    "import os\n",
    "from PIL import Image\n",
    "import numpy as np\n",
    "from sklearn.model_selection import train_test_split"
   ]
  },
  {
   "cell_type": "code",
   "execution_count": 7,
   "metadata": {},
   "outputs": [],
   "source": [
    "# Path to the main flower dataset folder\n",
    "dataset_folder = 'Crops\\Rice'"
   ]
  },
  {
   "cell_type": "code",
   "execution_count": 8,
   "metadata": {},
   "outputs": [],
   "source": [
    "# List of class names\n",
    "class_names = ['Brown_Spot','Healthy','Leaf_Blast','Neck_Blast']\n"
   ]
  },
  {
   "cell_type": "code",
   "execution_count": 9,
   "metadata": {},
   "outputs": [],
   "source": [
    "# Load and preprocess images\n",
    "data = []\n",
    "labels = []"
   ]
  },
  {
   "cell_type": "code",
   "execution_count": 10,
   "metadata": {},
   "outputs": [],
   "source": [
    "for class_idx, class_name in enumerate(class_names):\n",
    "    class_folder = os.path.join(dataset_folder, class_name)\n",
    "    for img_file in os.listdir(class_folder):\n",
    "        img_path = os.path.join(class_folder, img_file)\n",
    "        img = Image.open(img_path)\n",
    "        img = img.resize((32, 32))\n",
    "        img_array = np.array(img)\n",
    "        data.append(img_array)\n",
    "        labels.append(class_idx)"
   ]
  },
  {
   "cell_type": "code",
   "execution_count": 11,
   "metadata": {},
   "outputs": [],
   "source": [
    "# Convert to numpy arrays\n",
    "data = np.array(data)\n",
    "labels = np.array(labels)\n",
    "# Split the dataset into training and testing sets"
   ]
  },
  {
   "cell_type": "code",
   "execution_count": 12,
   "metadata": {},
   "outputs": [],
   "source": [
    "from sklearn.model_selection import train_test_split\n",
    "\n",
    "# Split the data into training, validation, and testing sets\n",
    "x_train, x_test, y_train, y_test = train_test_split(data, labels, test_size=0.2, random_state=42, stratify=labels)\n",
    "x_train, x_val, y_train, y_val = train_test_split(x_train, y_train, test_size=0.2, random_state=42, stratify=y_train)\n",
    "\n"
   ]
  },
  {
   "cell_type": "code",
   "execution_count": 13,
   "metadata": {},
   "outputs": [
    {
     "name": "stdout",
     "output_type": "stream",
     "text": [
      "x_train shape: (2232, 32, 32, 3)\n",
      "y_train shape: (2232,)\n",
      "x_val shape (558, 32, 32, 3)\n",
      "y_val shape : (558,)\n",
      "x_test shape: (698, 32, 32, 3)\n",
      "y_test shape: (698,)\n"
     ]
    }
   ],
   "source": [
    "# Print the shapes of the datasets\n",
    "print(\"x_train shape:\", x_train.shape)\n",
    "print(\"y_train shape:\", y_train.shape)\n",
    "print(\"x_val shape\", x_val.shape)\n",
    "print(\"y_val shape :\", y_val.shape)\n",
    "print(\"x_test shape:\", x_test.shape)\n",
    "print(\"y_test shape:\", y_test.shape)"
   ]
  },
  {
   "cell_type": "code",
   "execution_count": 14,
   "metadata": {},
   "outputs": [],
   "source": [
    "x_train = x_train / 255.0\n",
    "x_val = x_val / 255.0\n",
    "x_test = x_test / 255.0"
   ]
  },
  {
   "cell_type": "code",
   "execution_count": 15,
   "metadata": {},
   "outputs": [],
   "source": [
    "# Convert labels to one-hot encoding\n",
    "y_train = keras.utils.to_categorical(y_train, 4)\n",
    "y_val = keras.utils.to_categorical(y_val, 4)\n",
    "y_test = keras.utils.to_categorical(y_test, 4)\n",
    "     "
   ]
  },
  {
   "cell_type": "code",
   "execution_count": 16,
   "metadata": {},
   "outputs": [],
   "source": [
    "from keras.callbacks import ModelCheckpoint, EarlyStopping,ReduceLROnPlateau\n",
    "checkpoint = ModelCheckpoint('best_model1_weights.h5', monitor='val_accuracy', save_best_only=True)\n",
    "early_stopping=EarlyStopping(monitor='val_acc',mode='auto',patience=5,restore_best_weights=True)\n"
   ]
  },
  {
   "cell_type": "code",
   "execution_count": 17,
   "metadata": {},
   "outputs": [],
   "source": [
    "from tensorflow.keras import layers, Sequential\n",
    "from keras import applications \n",
    "from tensorflow.keras.optimizers import SGD\n",
    "from keras.layers  import Input\n",
    "from tensorflow.keras.layers import AveragePooling2D, Input, Flatten, Dense, Dropout\n",
    "from keras.models import Model\n",
    "from tensorflow.keras.optimizers import Adam"
   ]
  },
  {
   "cell_type": "code",
   "execution_count": 18,
   "metadata": {},
   "outputs": [],
   "source": [
    "#custom Model\n",
    "customModel = Sequential()\n",
    "customModel=Sequential(\n",
    "    [\n",
    "        layers.Conv2D(512,3,input_shape=(32,32,3),padding='same',activation='relu'),\n",
    "        layers.BatchNormalization(),\n",
    "        layers.MaxPooling2D(),\n",
    "        layers.Conv2D(256,3,padding='same',activation='relu'),\n",
    "        layers.Conv2D(256,3,padding='same',activation='relu'),\n",
    "        layers.BatchNormalization(),\n",
    "        layers.MaxPooling2D(),\n",
    "        layers.Conv2D(128,3,padding='same',activation='relu'),\n",
    "        layers.Conv2D(128,3,padding='same',activation='relu'),\n",
    "        layers.BatchNormalization(),\n",
    "        layers.MaxPooling2D(),\n",
    "        layers.Conv2D(64,3,padding='same',activation='relu'),\n",
    "        layers.Conv2D(64,3,padding='same',activation='relu'),\n",
    "        layers.BatchNormalization(),        \n",
    "        layers.MaxPooling2D(),\n",
    "        layers.Conv2D(32,3,padding='same',activation='relu'),\n",
    "        layers.Conv2D(32,3,padding='same',activation='relu'),\n",
    "        layers.BatchNormalization(),        \n",
    "        layers.MaxPooling2D(),\n",
    "        layers.Flatten(),\n",
    "\n",
    "        layers.Dense(512,activation='relu'),\n",
    "        layers.Dense(256,activation='relu'),\n",
    "        layers.Dense(128,activation='relu'),\n",
    "        layers.Dense(4,activation='softmax'),\n",
    "    ]\n",
    ")"
   ]
  },
  {
   "cell_type": "code",
   "execution_count": 19,
   "metadata": {},
   "outputs": [
    {
     "name": "stdout",
     "output_type": "stream",
     "text": [
      "Model: \"sequential_1\"\n",
      "_________________________________________________________________\n",
      " Layer (type)                Output Shape              Param #   \n",
      "=================================================================\n",
      " conv2d (Conv2D)             (None, 32, 32, 512)       14336     \n",
      "                                                                 \n",
      " batch_normalization (Batch  (None, 32, 32, 512)       2048      \n",
      " Normalization)                                                  \n",
      "                                                                 \n",
      " max_pooling2d (MaxPooling2  (None, 16, 16, 512)       0         \n",
      " D)                                                              \n",
      "                                                                 \n",
      " conv2d_1 (Conv2D)           (None, 16, 16, 256)       1179904   \n",
      "                                                                 \n",
      " conv2d_2 (Conv2D)           (None, 16, 16, 256)       590080    \n",
      "                                                                 \n",
      " batch_normalization_1 (Bat  (None, 16, 16, 256)       1024      \n",
      " chNormalization)                                                \n",
      "                                                                 \n",
      " max_pooling2d_1 (MaxPoolin  (None, 8, 8, 256)         0         \n",
      " g2D)                                                            \n",
      "                                                                 \n",
      " conv2d_3 (Conv2D)           (None, 8, 8, 128)         295040    \n",
      "                                                                 \n",
      " conv2d_4 (Conv2D)           (None, 8, 8, 128)         147584    \n",
      "                                                                 \n",
      " batch_normalization_2 (Bat  (None, 8, 8, 128)         512       \n",
      " chNormalization)                                                \n",
      "                                                                 \n",
      " max_pooling2d_2 (MaxPoolin  (None, 4, 4, 128)         0         \n",
      " g2D)                                                            \n",
      "                                                                 \n",
      " conv2d_5 (Conv2D)           (None, 4, 4, 64)          73792     \n",
      "                                                                 \n",
      " conv2d_6 (Conv2D)           (None, 4, 4, 64)          36928     \n",
      "                                                                 \n",
      " batch_normalization_3 (Bat  (None, 4, 4, 64)          256       \n",
      " chNormalization)                                                \n",
      "                                                                 \n",
      " max_pooling2d_3 (MaxPoolin  (None, 2, 2, 64)          0         \n",
      " g2D)                                                            \n",
      "                                                                 \n",
      " conv2d_7 (Conv2D)           (None, 2, 2, 32)          18464     \n",
      "                                                                 \n",
      " conv2d_8 (Conv2D)           (None, 2, 2, 32)          9248      \n",
      "                                                                 \n",
      " batch_normalization_4 (Bat  (None, 2, 2, 32)          128       \n",
      " chNormalization)                                                \n",
      "                                                                 \n",
      " max_pooling2d_4 (MaxPoolin  (None, 1, 1, 32)          0         \n",
      " g2D)                                                            \n",
      "                                                                 \n",
      " flatten (Flatten)           (None, 32)                0         \n",
      "                                                                 \n",
      " dense (Dense)               (None, 512)               16896     \n",
      "                                                                 \n",
      " dense_1 (Dense)             (None, 256)               131328    \n",
      "                                                                 \n",
      " dense_2 (Dense)             (None, 128)               32896     \n",
      "                                                                 \n",
      " dense_3 (Dense)             (None, 4)                 516       \n",
      "                                                                 \n",
      "=================================================================\n",
      "Total params: 2550980 (9.73 MB)\n",
      "Trainable params: 2548996 (9.72 MB)\n",
      "Non-trainable params: 1984 (7.75 KB)\n",
      "_________________________________________________________________\n"
     ]
    }
   ],
   "source": [
    "customModel.compile(optimizer='adam',\n",
    "              loss='categorical_crossentropy',\n",
    "              metrics=['accuracy'])\n",
    "customModel.summary()"
   ]
  },
  {
   "cell_type": "code",
   "execution_count": 20,
   "metadata": {},
   "outputs": [
    {
     "data": {
      "text/plain": [
       "(2232, 4)"
      ]
     },
     "execution_count": 20,
     "metadata": {},
     "output_type": "execute_result"
    }
   ],
   "source": [
    "y_train.shape"
   ]
  },
  {
   "cell_type": "code",
   "execution_count": 21,
   "metadata": {},
   "outputs": [
    {
     "name": "stdout",
     "output_type": "stream",
     "text": [
      "Epoch 1/35\n",
      "70/70 [==============================] - ETA: 0s - loss: 0.9174 - accuracy: 0.5918WARNING:tensorflow:Early stopping conditioned on metric `val_acc` which is not available. Available metrics are: loss,accuracy,val_loss,val_accuracy\n",
      "70/70 [==============================] - 66s 909ms/step - loss: 0.9174 - accuracy: 0.5918 - val_loss: 1.3601 - val_accuracy: 0.2867\n",
      "Epoch 2/35\n"
     ]
    },
    {
     "name": "stderr",
     "output_type": "stream",
     "text": [
      "c:\\Users\\VAIBHAV\\PycharmProjects\\pythonProject\\venv\\Lib\\site-packages\\keras\\src\\engine\\training.py:3000: UserWarning: You are saving your model as an HDF5 file via `model.save()`. This file format is considered legacy. We recommend using instead the native Keras format, e.g. `model.save('my_model.keras')`.\n",
      "  saving_api.save_model(\n"
     ]
    },
    {
     "name": "stdout",
     "output_type": "stream",
     "text": [
      "70/70 [==============================] - ETA: 0s - loss: 0.6426 - accuracy: 0.7133WARNING:tensorflow:Early stopping conditioned on metric `val_acc` which is not available. Available metrics are: loss,accuracy,val_loss,val_accuracy\n",
      "70/70 [==============================] - 64s 921ms/step - loss: 0.6426 - accuracy: 0.7133 - val_loss: 1.9627 - val_accuracy: 0.3369\n",
      "Epoch 3/35\n",
      "70/70 [==============================] - ETA: 0s - loss: 0.6160 - accuracy: 0.7227WARNING:tensorflow:Early stopping conditioned on metric `val_acc` which is not available. Available metrics are: loss,accuracy,val_loss,val_accuracy\n",
      "70/70 [==============================] - 65s 925ms/step - loss: 0.6160 - accuracy: 0.7227 - val_loss: 1.4186 - val_accuracy: 0.3566\n",
      "Epoch 4/35\n",
      "70/70 [==============================] - ETA: 0s - loss: 0.6122 - accuracy: 0.7236WARNING:tensorflow:Early stopping conditioned on metric `val_acc` which is not available. Available metrics are: loss,accuracy,val_loss,val_accuracy\n",
      "70/70 [==============================] - 66s 945ms/step - loss: 0.6122 - accuracy: 0.7236 - val_loss: 1.1140 - val_accuracy: 0.4928\n",
      "Epoch 5/35\n",
      "70/70 [==============================] - ETA: 0s - loss: 0.5908 - accuracy: 0.7325WARNING:tensorflow:Early stopping conditioned on metric `val_acc` which is not available. Available metrics are: loss,accuracy,val_loss,val_accuracy\n",
      "70/70 [==============================] - 65s 936ms/step - loss: 0.5908 - accuracy: 0.7325 - val_loss: 1.3834 - val_accuracy: 0.4247\n",
      "Epoch 6/35\n",
      "70/70 [==============================] - ETA: 0s - loss: 0.5909 - accuracy: 0.7280WARNING:tensorflow:Early stopping conditioned on metric `val_acc` which is not available. Available metrics are: loss,accuracy,val_loss,val_accuracy\n",
      "70/70 [==============================] - 66s 939ms/step - loss: 0.5909 - accuracy: 0.7280 - val_loss: 1.1801 - val_accuracy: 0.5108\n",
      "Epoch 7/35\n",
      "70/70 [==============================] - ETA: 0s - loss: 0.5841 - accuracy: 0.7428WARNING:tensorflow:Early stopping conditioned on metric `val_acc` which is not available. Available metrics are: loss,accuracy,val_loss,val_accuracy\n",
      "70/70 [==============================] - 66s 938ms/step - loss: 0.5841 - accuracy: 0.7428 - val_loss: 0.7085 - val_accuracy: 0.6882\n",
      "Epoch 8/35\n",
      "70/70 [==============================] - ETA: 0s - loss: 0.5623 - accuracy: 0.7496WARNING:tensorflow:Early stopping conditioned on metric `val_acc` which is not available. Available metrics are: loss,accuracy,val_loss,val_accuracy\n",
      "70/70 [==============================] - 66s 942ms/step - loss: 0.5623 - accuracy: 0.7496 - val_loss: 1.5097 - val_accuracy: 0.4928\n",
      "Epoch 9/35\n",
      "70/70 [==============================] - ETA: 0s - loss: 0.5727 - accuracy: 0.7469WARNING:tensorflow:Early stopping conditioned on metric `val_acc` which is not available. Available metrics are: loss,accuracy,val_loss,val_accuracy\n",
      "70/70 [==============================] - 66s 943ms/step - loss: 0.5727 - accuracy: 0.7469 - val_loss: 0.7574 - val_accuracy: 0.6487\n",
      "Epoch 10/35\n",
      "70/70 [==============================] - ETA: 0s - loss: 0.5293 - accuracy: 0.7764WARNING:tensorflow:Early stopping conditioned on metric `val_acc` which is not available. Available metrics are: loss,accuracy,val_loss,val_accuracy\n",
      "70/70 [==============================] - 66s 948ms/step - loss: 0.5293 - accuracy: 0.7764 - val_loss: 1.3831 - val_accuracy: 0.4982\n",
      "Epoch 11/35\n",
      "70/70 [==============================] - ETA: 0s - loss: 0.5364 - accuracy: 0.7616WARNING:tensorflow:Early stopping conditioned on metric `val_acc` which is not available. Available metrics are: loss,accuracy,val_loss,val_accuracy\n",
      "70/70 [==============================] - 66s 944ms/step - loss: 0.5364 - accuracy: 0.7616 - val_loss: 1.1909 - val_accuracy: 0.5986\n",
      "Epoch 12/35\n",
      "70/70 [==============================] - ETA: 0s - loss: 0.5272 - accuracy: 0.7643WARNING:tensorflow:Early stopping conditioned on metric `val_acc` which is not available. Available metrics are: loss,accuracy,val_loss,val_accuracy\n",
      "70/70 [==============================] - 66s 948ms/step - loss: 0.5272 - accuracy: 0.7643 - val_loss: 0.9743 - val_accuracy: 0.6541\n",
      "Epoch 13/35\n",
      "70/70 [==============================] - ETA: 0s - loss: 0.5131 - accuracy: 0.7764WARNING:tensorflow:Early stopping conditioned on metric `val_acc` which is not available. Available metrics are: loss,accuracy,val_loss,val_accuracy\n",
      "70/70 [==============================] - 66s 944ms/step - loss: 0.5131 - accuracy: 0.7764 - val_loss: 2.1011 - val_accuracy: 0.5197\n",
      "Epoch 14/35\n",
      "70/70 [==============================] - ETA: 0s - loss: 0.4970 - accuracy: 0.7827WARNING:tensorflow:Early stopping conditioned on metric `val_acc` which is not available. Available metrics are: loss,accuracy,val_loss,val_accuracy\n",
      "70/70 [==============================] - 66s 941ms/step - loss: 0.4970 - accuracy: 0.7827 - val_loss: 0.7520 - val_accuracy: 0.6846\n",
      "Epoch 15/35\n",
      "70/70 [==============================] - ETA: 0s - loss: 0.5168 - accuracy: 0.7720WARNING:tensorflow:Early stopping conditioned on metric `val_acc` which is not available. Available metrics are: loss,accuracy,val_loss,val_accuracy\n",
      "70/70 [==============================] - 66s 941ms/step - loss: 0.5168 - accuracy: 0.7720 - val_loss: 1.6032 - val_accuracy: 0.4767\n",
      "Epoch 16/35\n",
      "70/70 [==============================] - ETA: 0s - loss: 0.4877 - accuracy: 0.7823WARNING:tensorflow:Early stopping conditioned on metric `val_acc` which is not available. Available metrics are: loss,accuracy,val_loss,val_accuracy\n",
      "70/70 [==============================] - 66s 944ms/step - loss: 0.4877 - accuracy: 0.7823 - val_loss: 1.0686 - val_accuracy: 0.5484\n",
      "Epoch 17/35\n",
      "70/70 [==============================] - ETA: 0s - loss: 0.5302 - accuracy: 0.7688WARNING:tensorflow:Early stopping conditioned on metric `val_acc` which is not available. Available metrics are: loss,accuracy,val_loss,val_accuracy\n",
      "70/70 [==============================] - 66s 945ms/step - loss: 0.5302 - accuracy: 0.7688 - val_loss: 0.6448 - val_accuracy: 0.7025\n",
      "Epoch 18/35\n",
      "70/70 [==============================] - ETA: 0s - loss: 0.4805 - accuracy: 0.7890WARNING:tensorflow:Early stopping conditioned on metric `val_acc` which is not available. Available metrics are: loss,accuracy,val_loss,val_accuracy\n",
      "70/70 [==============================] - 66s 942ms/step - loss: 0.4805 - accuracy: 0.7890 - val_loss: 2.3469 - val_accuracy: 0.5125\n",
      "Epoch 19/35\n",
      "70/70 [==============================] - ETA: 0s - loss: 0.4844 - accuracy: 0.7926WARNING:tensorflow:Early stopping conditioned on metric `val_acc` which is not available. Available metrics are: loss,accuracy,val_loss,val_accuracy\n",
      "70/70 [==============================] - 66s 943ms/step - loss: 0.4844 - accuracy: 0.7926 - val_loss: 1.0237 - val_accuracy: 0.6165\n",
      "Epoch 20/35\n",
      "70/70 [==============================] - ETA: 0s - loss: 0.5035 - accuracy: 0.7796WARNING:tensorflow:Early stopping conditioned on metric `val_acc` which is not available. Available metrics are: loss,accuracy,val_loss,val_accuracy\n",
      "70/70 [==============================] - 66s 950ms/step - loss: 0.5035 - accuracy: 0.7796 - val_loss: 1.0020 - val_accuracy: 0.5269\n",
      "Epoch 21/35\n",
      "70/70 [==============================] - ETA: 0s - loss: 0.4644 - accuracy: 0.7970WARNING:tensorflow:Early stopping conditioned on metric `val_acc` which is not available. Available metrics are: loss,accuracy,val_loss,val_accuracy\n",
      "70/70 [==============================] - 67s 953ms/step - loss: 0.4644 - accuracy: 0.7970 - val_loss: 0.6133 - val_accuracy: 0.7330\n",
      "Epoch 22/35\n",
      "70/70 [==============================] - ETA: 0s - loss: 0.4571 - accuracy: 0.7975WARNING:tensorflow:Early stopping conditioned on metric `val_acc` which is not available. Available metrics are: loss,accuracy,val_loss,val_accuracy\n",
      "70/70 [==============================] - 66s 950ms/step - loss: 0.4571 - accuracy: 0.7975 - val_loss: 0.8140 - val_accuracy: 0.7097\n",
      "Epoch 23/35\n",
      "70/70 [==============================] - ETA: 0s - loss: 0.4490 - accuracy: 0.7975WARNING:tensorflow:Early stopping conditioned on metric `val_acc` which is not available. Available metrics are: loss,accuracy,val_loss,val_accuracy\n",
      "70/70 [==============================] - 66s 950ms/step - loss: 0.4490 - accuracy: 0.7975 - val_loss: 0.7016 - val_accuracy: 0.7384\n",
      "Epoch 24/35\n",
      "70/70 [==============================] - ETA: 0s - loss: 0.4540 - accuracy: 0.8038WARNING:tensorflow:Early stopping conditioned on metric `val_acc` which is not available. Available metrics are: loss,accuracy,val_loss,val_accuracy\n",
      "70/70 [==============================] - 66s 948ms/step - loss: 0.4540 - accuracy: 0.8038 - val_loss: 0.7837 - val_accuracy: 0.6792\n",
      "Epoch 25/35\n",
      "70/70 [==============================] - ETA: 0s - loss: 0.4224 - accuracy: 0.8177WARNING:tensorflow:Early stopping conditioned on metric `val_acc` which is not available. Available metrics are: loss,accuracy,val_loss,val_accuracy\n",
      "70/70 [==============================] - 66s 951ms/step - loss: 0.4224 - accuracy: 0.8177 - val_loss: 0.8174 - val_accuracy: 0.6810\n",
      "Epoch 26/35\n",
      "70/70 [==============================] - ETA: 0s - loss: 0.4470 - accuracy: 0.8060WARNING:tensorflow:Early stopping conditioned on metric `val_acc` which is not available. Available metrics are: loss,accuracy,val_loss,val_accuracy\n",
      "70/70 [==============================] - 67s 959ms/step - loss: 0.4470 - accuracy: 0.8060 - val_loss: 0.6988 - val_accuracy: 0.7079\n",
      "Epoch 27/35\n",
      "70/70 [==============================] - ETA: 0s - loss: 0.3995 - accuracy: 0.8253WARNING:tensorflow:Early stopping conditioned on metric `val_acc` which is not available. Available metrics are: loss,accuracy,val_loss,val_accuracy\n",
      "70/70 [==============================] - 67s 959ms/step - loss: 0.3995 - accuracy: 0.8253 - val_loss: 1.1407 - val_accuracy: 0.5520\n",
      "Epoch 28/35\n",
      "70/70 [==============================] - ETA: 0s - loss: 0.4057 - accuracy: 0.8262WARNING:tensorflow:Early stopping conditioned on metric `val_acc` which is not available. Available metrics are: loss,accuracy,val_loss,val_accuracy\n",
      "70/70 [==============================] - 67s 962ms/step - loss: 0.4057 - accuracy: 0.8262 - val_loss: 0.7700 - val_accuracy: 0.6971\n",
      "Epoch 29/35\n",
      "70/70 [==============================] - ETA: 0s - loss: 0.3853 - accuracy: 0.8351WARNING:tensorflow:Early stopping conditioned on metric `val_acc` which is not available. Available metrics are: loss,accuracy,val_loss,val_accuracy\n",
      "70/70 [==============================] - 67s 958ms/step - loss: 0.3853 - accuracy: 0.8351 - val_loss: 0.8616 - val_accuracy: 0.6290\n",
      "Epoch 30/35\n",
      "70/70 [==============================] - ETA: 0s - loss: 0.3976 - accuracy: 0.8338WARNING:tensorflow:Early stopping conditioned on metric `val_acc` which is not available. Available metrics are: loss,accuracy,val_loss,val_accuracy\n",
      "70/70 [==============================] - 67s 958ms/step - loss: 0.3976 - accuracy: 0.8338 - val_loss: 1.0336 - val_accuracy: 0.6434\n",
      "Epoch 31/35\n",
      "70/70 [==============================] - ETA: 0s - loss: 0.3827 - accuracy: 0.8369WARNING:tensorflow:Early stopping conditioned on metric `val_acc` which is not available. Available metrics are: loss,accuracy,val_loss,val_accuracy\n",
      "70/70 [==============================] - 67s 958ms/step - loss: 0.3827 - accuracy: 0.8369 - val_loss: 1.2780 - val_accuracy: 0.5735\n",
      "Epoch 32/35\n",
      "70/70 [==============================] - ETA: 0s - loss: 0.4405 - accuracy: 0.8199WARNING:tensorflow:Early stopping conditioned on metric `val_acc` which is not available. Available metrics are: loss,accuracy,val_loss,val_accuracy\n",
      "70/70 [==============================] - 67s 953ms/step - loss: 0.4405 - accuracy: 0.8199 - val_loss: 1.5209 - val_accuracy: 0.5663\n",
      "Epoch 33/35\n",
      "70/70 [==============================] - ETA: 0s - loss: 0.3607 - accuracy: 0.8365WARNING:tensorflow:Early stopping conditioned on metric `val_acc` which is not available. Available metrics are: loss,accuracy,val_loss,val_accuracy\n",
      "70/70 [==============================] - 67s 953ms/step - loss: 0.3607 - accuracy: 0.8365 - val_loss: 1.2576 - val_accuracy: 0.5753\n",
      "Epoch 34/35\n",
      "70/70 [==============================] - ETA: 0s - loss: 0.3514 - accuracy: 0.8508WARNING:tensorflow:Early stopping conditioned on metric `val_acc` which is not available. Available metrics are: loss,accuracy,val_loss,val_accuracy\n",
      "70/70 [==============================] - 67s 955ms/step - loss: 0.3514 - accuracy: 0.8508 - val_loss: 0.7800 - val_accuracy: 0.6649\n",
      "Epoch 35/35\n",
      "70/70 [==============================] - ETA: 0s - loss: 0.3402 - accuracy: 0.8499WARNING:tensorflow:Early stopping conditioned on metric `val_acc` which is not available. Available metrics are: loss,accuracy,val_loss,val_accuracy\n",
      "70/70 [==============================] - 67s 953ms/step - loss: 0.3402 - accuracy: 0.8499 - val_loss: 0.9238 - val_accuracy: 0.6254\n"
     ]
    }
   ],
   "source": [
    "history = customModel.fit(\n",
    "    x_train,y_train,\n",
    "    epochs=35,\n",
    "    validation_data=(x_val, y_val),\n",
    "    callbacks=[checkpoint,early_stopping])\n"
   ]
  },
  {
   "cell_type": "code",
   "execution_count": 22,
   "metadata": {},
   "outputs": [
    {
     "name": "stdout",
     "output_type": "stream",
     "text": [
      "18/18 [==============================] - 4s 229ms/step - loss: 0.9238 - accuracy: 0.6254\n",
      "Validation accuracy :  0.6254480481147766\n"
     ]
    }
   ],
   "source": [
    "val_loss, val_acc = customModel.evaluate(x_val,y_val)\n",
    "print('Validation accuracy : ', val_acc)\n",
    "\n",
    "\n",
    "acc = history.history['accuracy']\n",
    "val_acc = history.history['val_accuracy']\n",
    "\n",
    "loss = history.history['loss']\n",
    "val_loss = history.history['val_loss']\n",
    "\n",
    "\n"
   ]
  },
  {
   "cell_type": "code",
   "execution_count": 23,
   "metadata": {},
   "outputs": [],
   "source": [
    "import matplotlib.pyplot as plt\n",
    "import pandas as pd\n",
    "import seaborn as sns"
   ]
  },
  {
   "cell_type": "code",
   "execution_count": 24,
   "metadata": {},
   "outputs": [
    {
     "name": "stdout",
     "output_type": "stream",
     "text": [
      "18/18 [==============================] - 4s 222ms/step\n"
     ]
    },
    {
     "data": {
      "image/png": "[encoded data removed]",
      "text/plain": [
       "<Figure size 1200x1000 with 2 Axes>"
      ]
     },
     "metadata": {},
     "output_type": "display_data"
    },
    {
     "name": "stdout",
     "output_type": "stream",
     "text": [
      "              precision    recall  f1-score   support\n",
      "\n",
      "           0       0.76      0.27      0.39        98\n",
      "           1       0.46      0.43      0.45       152\n",
      "           2       0.46      0.68      0.55       156\n",
      "           3       0.99      0.99      0.99       152\n",
      "\n",
      "    accuracy                           0.63       558\n",
      "   macro avg       0.67      0.59      0.60       558\n",
      "weighted avg       0.66      0.63      0.62       558\n",
      "\n",
      "22/22 [==============================] - 5s 233ms/step - loss: 0.9012 - accuracy: 0.6461\n"
     ]
    }
   ],
   "source": [
    "from sklearn.metrics import confusion_matrix,classification_report\n",
    "valid_pres=customModel.predict(x_val)\n",
    "valid_pred = [np.argmax(pred) for pred in valid_pres]\n",
    "y_val = np.argmax(y_val, axis=1)\n",
    "cm =confusion_matrix(y_val,valid_pred)\n",
    "plt.figure(figsize = (12, 10))\n",
    "cm = pd.DataFrame(cm , index = [i for i in class_names] , columns = [i for i in class_names])\n",
    "#cm = cm.astype('float') / cm.sum(axis=1)[:, np.newaxis]\n",
    "sns.heatmap(cm, linecolor='white', cmap='Blues', linewidth=1, annot=True, fmt='.2f')\n",
    "plt.title('Confusion Matrix', size=20)\n",
    "plt.xlabel('Predicted Labels', size=14)\n",
    "plt.ylabel('Actual Labels', size=14)\n",
    "plt.show()\n",
    "print(classification_report(y_val,valid_pred))\n",
    "\n",
    "\n",
    "score = customModel.evaluate(x_test, y_test)\n",
    "     "
   ]
  },
  {
   "cell_type": "code",
   "execution_count": 25,
   "metadata": {},
   "outputs": [
    {
     "name": "stdout",
     "output_type": "stream",
     "text": [
      "Test Loss: 0.9012462496757507\n",
      "Test accuracy: 0.6461318135261536\n"
     ]
    }
   ],
   "source": [
    "\n",
    "print('Test Loss:', score[0])\n",
    "print('Test accuracy:', score[1])\n",
    "\n",
    "\n",
    "\n",
    "\n"
   ]
  },
  {
   "cell_type": "code",
   "execution_count": 26,
   "metadata": {},
   "outputs": [
    {
     "name": "stdout",
     "output_type": "stream",
     "text": [
      "INFO:tensorflow:Assets written to: Rice_Saved_Model\\assets\n"
     ]
    },
    {
     "name": "stderr",
     "output_type": "stream",
     "text": [
      "INFO:tensorflow:Assets written to: Rice_Saved_Model\\assets\n"
     ]
    }
   ],
   "source": [
    "customModel.save('Rice_Saved_Model')\n",
    "\n"
   ]
  },
  {
   "cell_type": "code",
   "execution_count": 27,
   "metadata": {},
   "outputs": [],
   "source": [
    "import tensorflow as tf\n",
    "import numpy as np\n",
    "from PIL import Image\n",
    "import tensorflow as tf\n",
    "model = tf.keras.models.load_model('Rice_Saved_Model')\n",
    "\n",
    "\n"
   ]
  },
  {
   "cell_type": "code",
   "execution_count": 28,
   "metadata": {},
   "outputs": [],
   "source": [
    "\n",
    "def preprocess_image(image_path):\n",
    "    img = Image.open(image_path)\n",
    "    img = img.resize((32, 32))\n",
    "    \n",
    "    # Convert to RGB in case the image has an alpha channel\n",
    "    img = img.convert('RGB')\n",
    "    \n",
    "    img_array = np.array(img)\n",
    "    img_array = img_array.astype('float32') / 255.0\n",
    "    img_array = np.expand_dims(img_array, axis=0)\n",
    "    return img_array"
   ]
  },
  {
   "cell_type": "code",
   "execution_count": 29,
   "metadata": {},
   "outputs": [],
   "source": [
    "# List of class names\n",
    "class_names = ['Brown_Spot','Healthy','Leaf_Blast','Neck_Blast']"
   ]
  },
  {
   "cell_type": "code",
   "execution_count": null,
   "metadata": {},
   "outputs": [],
   "source": [
    "# Predict the class\n",
    "image_path = 'flowers/rose/12240303_80d87f77a3_n.jpg'\n",
    "input_image = preprocess_image(image_path)\n",
    "predictions = model.predict(input_image)\n",
    "\n",
    "predicted_class = np.argmax(predictions)\n",
    "predicted_class_name = class_names[predicted_class]\n",
    "\n",
    "print(\"Predicted class:\", predicted_class_name)\n",
    "\n",
    "\n"
   ]
  }
 ],
 "metadata": {
  "kernelspec": {
   "display_name": "venv",
   "language": "python",
   "name": "python3"
  },
  "language_info": {
   "codemirror_mode": {
    "name": "ipython",
    "version": 3
   },
   "file_extension": ".py",
   "mimetype": "text/x-python",
   "name": "python",
   "nbconvert_exporter": "python",
   "pygments_lexer": "ipython3",
   "version": "3.11.7"
  }
 },
 "nbformat": 4,
 "nbformat_minor": 2
}
