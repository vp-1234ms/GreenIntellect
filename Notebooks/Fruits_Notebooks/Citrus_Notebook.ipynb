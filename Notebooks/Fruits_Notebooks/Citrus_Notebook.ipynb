{
 "cells": [
  {
   "cell_type": "code",
   "execution_count": 33,
   "metadata": {},
   "outputs": [],
   "source": [
    "from tensorflow import keras\n",
    "from keras.models import Model\n",
    "from keras.layers import Input, Conv2D,  BatchNormalization, Add, Activation, MaxPooling2D, concatenate, Flatten, Dense, AveragePooling2D\n",
    "from keras.optimizers import Adam\n",
    "from tensorflow import keras\n",
    "from keras.datasets import mnist\n",
    "from keras.layers import Conv2D, MaxPooling2D,AveragePooling2D\n",
    "from keras.layers import Dense, Flatten\n",
    "from keras.models import Sequential"
   ]
  },
  {
   "cell_type": "code",
   "execution_count": 34,
   "metadata": {},
   "outputs": [],
   "source": [
    "import os\n",
    "from PIL import Image\n",
    "import numpy as np\n",
    "from sklearn.model_selection import train_test_split"
   ]
  },
  {
   "cell_type": "code",
   "execution_count": 35,
   "metadata": {},
   "outputs": [],
   "source": [
    "# Path to the main flower dataset folder\n",
    "dataset_folder = 'Fruits\\Citrus'\n"
   ]
  },
  {
   "cell_type": "code",
   "execution_count": 36,
   "metadata": {},
   "outputs": [],
   "source": [
    "# List of class names\n",
    "class_names = ['Black spot','Canker','Greening','Healthy','Melanose']"
   ]
  },
  {
   "cell_type": "code",
   "execution_count": 37,
   "metadata": {},
   "outputs": [],
   "source": [
    "# Load and preprocess images\n",
    "data = []\n",
    "labels = []\n",
    "\n",
    "for class_idx, class_name in enumerate(class_names):\n",
    "    class_folder = os.path.join(dataset_folder, class_name)\n",
    "    for img_file in os.listdir(class_folder):\n",
    "        img_path = os.path.join(class_folder, img_file)\n",
    "        img = Image.open(img_path)\n",
    "        img = img.resize((32, 32))\n",
    "        img_array = np.array(img)\n",
    "        data.append(img_array)\n",
    "        labels.append(class_idx)"
   ]
  },
  {
   "cell_type": "code",
   "execution_count": 38,
   "metadata": {},
   "outputs": [],
   "source": [
    "# Convert to numpy arrays\n",
    "data = np.array(data)\n",
    "labels = np.array(labels)\n",
    "# Split the dataset into training and testing sets\n",
    "from sklearn.model_selection import train_test_split\n",
    "\n",
    "# Split the data into training, validation, and testing sets\n",
    "x_train, x_test, y_train, y_test = train_test_split(data, labels, test_size=0.2, random_state=42, stratify=labels)\n",
    "x_train, x_val, y_train, y_val = train_test_split(x_train, y_train, test_size=0.2, random_state=42, stratify=y_train)"
   ]
  },
  {
   "cell_type": "code",
   "execution_count": 39,
   "metadata": {},
   "outputs": [
    {
     "name": "stdout",
     "output_type": "stream",
     "text": [
      "x_train shape: (388, 32, 32, 3)\n",
      "y_train shape: (388,)\n",
      "x_val shape (97, 32, 32, 3)\n",
      "y_val shape : (97,)\n",
      "x_test shape: (122, 32, 32, 3)\n",
      "y_test shape: (122,)\n"
     ]
    }
   ],
   "source": [
    "\n",
    "# Print the shapes of the datasets\n",
    "print(\"x_train shape:\", x_train.shape)\n",
    "print(\"y_train shape:\", y_train.shape)\n",
    "print(\"x_val shape\", x_val.shape)\n",
    "print(\"y_val shape :\", y_val.shape)\n",
    "print(\"x_test shape:\", x_test.shape)\n",
    "print(\"y_test shape:\", y_test.shape)"
   ]
  },
  {
   "cell_type": "code",
   "execution_count": 40,
   "metadata": {},
   "outputs": [],
   "source": [
    "x_train = x_train / 255.0\n",
    "x_val = x_val / 255.0\n",
    "x_test = x_test / 255.0\n",
    "     "
   ]
  },
  {
   "cell_type": "code",
   "execution_count": 41,
   "metadata": {},
   "outputs": [],
   "source": [
    "# Convert labels to one-hot encoding\n",
    "y_train = keras.utils.to_categorical(y_train, 5)\n",
    "y_val = keras.utils.to_categorical(y_val, 5)\n",
    "y_test = keras.utils.to_categorical(y_test, 5)\n",
    "     "
   ]
  },
  {
   "cell_type": "code",
   "execution_count": 42,
   "metadata": {},
   "outputs": [],
   "source": [
    "from keras.callbacks import ModelCheckpoint, EarlyStopping,ReduceLROnPlateau\n",
    "checkpoint = ModelCheckpoint('best_model1_weights.h5', monitor='val_accuracy', save_best_only=True)\n",
    "early_stopping=EarlyStopping(monitor='val_acc',mode='auto',patience=5,restore_best_weights=True)"
   ]
  },
  {
   "cell_type": "code",
   "execution_count": 43,
   "metadata": {},
   "outputs": [],
   "source": [
    "\n",
    "from tensorflow.keras import layers, Sequential\n",
    "from keras import applications \n",
    "from tensorflow.keras.optimizers import SGD\n",
    "from keras.layers  import Input\n",
    "from tensorflow.keras.layers import AveragePooling2D, Input, Flatten, Dense, Dropout\n",
    "from keras.models import Model\n",
    "from tensorflow.keras.optimizers import Adam"
   ]
  },
  {
   "cell_type": "code",
   "execution_count": 44,
   "metadata": {},
   "outputs": [
    {
     "name": "stdout",
     "output_type": "stream",
     "text": [
      "Model: \"sequential_5\"\n",
      "_________________________________________________________________\n",
      " Layer (type)                Output Shape              Param #   \n",
      "=================================================================\n",
      " conv2d_18 (Conv2D)          (None, 32, 32, 512)       14336     \n",
      "                                                                 \n",
      " batch_normalization_10 (Ba  (None, 32, 32, 512)       2048      \n",
      " tchNormalization)                                               \n",
      "                                                                 \n",
      " max_pooling2d_10 (MaxPooli  (None, 16, 16, 512)       0         \n",
      " ng2D)                                                           \n",
      "                                                                 \n",
      " conv2d_19 (Conv2D)          (None, 16, 16, 256)       1179904   \n",
      "                                                                 \n",
      " conv2d_20 (Conv2D)          (None, 16, 16, 256)       590080    \n",
      "                                                                 \n",
      " batch_normalization_11 (Ba  (None, 16, 16, 256)       1024      \n",
      " tchNormalization)                                               \n",
      "                                                                 \n",
      " max_pooling2d_11 (MaxPooli  (None, 8, 8, 256)         0         \n",
      " ng2D)                                                           \n",
      "                                                                 \n",
      " conv2d_21 (Conv2D)          (None, 8, 8, 128)         295040    \n",
      "                                                                 \n",
      " conv2d_22 (Conv2D)          (None, 8, 8, 128)         147584    \n",
      "                                                                 \n",
      " batch_normalization_12 (Ba  (None, 8, 8, 128)         512       \n",
      " tchNormalization)                                               \n",
      "                                                                 \n",
      " max_pooling2d_12 (MaxPooli  (None, 4, 4, 128)         0         \n",
      " ng2D)                                                           \n",
      "                                                                 \n",
      " conv2d_23 (Conv2D)          (None, 4, 4, 64)          73792     \n",
      "                                                                 \n",
      " conv2d_24 (Conv2D)          (None, 4, 4, 64)          36928     \n",
      "                                                                 \n",
      " batch_normalization_13 (Ba  (None, 4, 4, 64)          256       \n",
      " tchNormalization)                                               \n",
      "                                                                 \n",
      " max_pooling2d_13 (MaxPooli  (None, 2, 2, 64)          0         \n",
      " ng2D)                                                           \n",
      "                                                                 \n",
      " conv2d_25 (Conv2D)          (None, 2, 2, 32)          18464     \n",
      "                                                                 \n",
      " conv2d_26 (Conv2D)          (None, 2, 2, 32)          9248      \n",
      "                                                                 \n",
      " batch_normalization_14 (Ba  (None, 2, 2, 32)          128       \n",
      " tchNormalization)                                               \n",
      "                                                                 \n",
      " max_pooling2d_14 (MaxPooli  (None, 1, 1, 32)          0         \n",
      " ng2D)                                                           \n",
      "                                                                 \n",
      " flatten_2 (Flatten)         (None, 32)                0         \n",
      "                                                                 \n",
      " dense_8 (Dense)             (None, 512)               16896     \n",
      "                                                                 \n",
      " dense_9 (Dense)             (None, 256)               131328    \n",
      "                                                                 \n",
      " dense_10 (Dense)            (None, 128)               32896     \n",
      "                                                                 \n",
      " dense_11 (Dense)            (None, 5)                 645       \n",
      "                                                                 \n",
      "=================================================================\n",
      "Total params: 2551109 (9.73 MB)\n",
      "Trainable params: 2549125 (9.72 MB)\n",
      "Non-trainable params: 1984 (7.75 KB)\n",
      "_________________________________________________________________\n"
     ]
    }
   ],
   "source": [
    "#custom Model\n",
    "customModel = Sequential()\n",
    "customModel=Sequential(\n",
    "    [\n",
    "        layers.Conv2D(512,3,input_shape=(32,32,3),padding='same',activation='relu'),\n",
    "        layers.BatchNormalization(),\n",
    "        layers.MaxPooling2D(),\n",
    "        layers.Conv2D(256,3,padding='same',activation='relu'),\n",
    "        layers.Conv2D(256,3,padding='same',activation='relu'),\n",
    "        layers.BatchNormalization(),\n",
    "        layers.MaxPooling2D(),\n",
    "        layers.Conv2D(128,3,padding='same',activation='relu'),\n",
    "        layers.Conv2D(128,3,padding='same',activation='relu'),\n",
    "        layers.BatchNormalization(),\n",
    "        layers.MaxPooling2D(),\n",
    "        layers.Conv2D(64,3,padding='same',activation='relu'),\n",
    "        layers.Conv2D(64,3,padding='same',activation='relu'),\n",
    "        layers.BatchNormalization(),        \n",
    "        layers.MaxPooling2D(),\n",
    "        layers.Conv2D(32,3,padding='same',activation='relu'),\n",
    "        layers.Conv2D(32,3,padding='same',activation='relu'),\n",
    "        layers.BatchNormalization(),        \n",
    "        layers.MaxPooling2D(),\n",
    "        layers.Flatten(),\n",
    "\n",
    "        layers.Dense(512,activation='relu'),\n",
    "        layers.Dense(256,activation='relu'),\n",
    "        layers.Dense(128,activation='relu'),\n",
    "        layers.Dense(5,activation='softmax'),\n",
    "    ]\n",
    ")\n",
    "customModel.compile(optimizer='adam',\n",
    "              loss='categorical_crossentropy',\n",
    "              metrics=['accuracy'])\n",
    "customModel.summary()\n",
    "     "
   ]
  },
  {
   "cell_type": "code",
   "execution_count": 45,
   "metadata": {},
   "outputs": [
    {
     "data": {
      "text/plain": [
       "(388, 5)"
      ]
     },
     "execution_count": 45,
     "metadata": {},
     "output_type": "execute_result"
    }
   ],
   "source": [
    "y_train.shape"
   ]
  },
  {
   "cell_type": "code",
   "execution_count": 46,
   "metadata": {},
   "outputs": [
    {
     "name": "stdout",
     "output_type": "stream",
     "text": [
      "Epoch 1/35\n",
      "13/13 [==============================] - ETA: 0s - loss: 1.3662 - accuracy: 0.3686"
     ]
    },
    {
     "name": "stderr",
     "output_type": "stream",
     "text": [
      "c:\\Users\\VAIBHAV\\PycharmProjects\\pythonProject\\venv\\Lib\\site-packages\\keras\\src\\engine\\training.py:3000: UserWarning: You are saving your model as an HDF5 file via `model.save()`. This file format is considered legacy. We recommend using instead the native Keras format, e.g. `model.save('my_model.keras')`.\n",
      "  saving_api.save_model(\n"
     ]
    },
    {
     "name": "stdout",
     "output_type": "stream",
     "text": [
      "WARNING:tensorflow:Early stopping conditioned on metric `val_acc` which is not available. Available metrics are: loss,accuracy,val_loss,val_accuracy\n"
     ]
    },
    {
     "name": "stderr",
     "output_type": "stream",
     "text": [
      "WARNING:tensorflow:Early stopping conditioned on metric `val_acc` which is not available. Available metrics are: loss,accuracy,val_loss,val_accuracy\n"
     ]
    },
    {
     "name": "stdout",
     "output_type": "stream",
     "text": [
      "13/13 [==============================] - 17s 1s/step - loss: 1.3662 - accuracy: 0.3686 - val_loss: 1.4752 - val_accuracy: 0.2784\n",
      "Epoch 2/35\n",
      "13/13 [==============================] - ETA: 0s - loss: 1.1101 - accuracy: 0.5206WARNING:tensorflow:Early stopping conditioned on metric `val_acc` which is not available. Available metrics are: loss,accuracy,val_loss,val_accuracy\n"
     ]
    },
    {
     "name": "stderr",
     "output_type": "stream",
     "text": [
      "WARNING:tensorflow:Early stopping conditioned on metric `val_acc` which is not available. Available metrics are: loss,accuracy,val_loss,val_accuracy\n"
     ]
    },
    {
     "name": "stdout",
     "output_type": "stream",
     "text": [
      "13/13 [==============================] - 15s 1s/step - loss: 1.1101 - accuracy: 0.5206 - val_loss: 1.4026 - val_accuracy: 0.3402\n",
      "Epoch 3/35\n",
      "13/13 [==============================] - ETA: 0s - loss: 0.8545 - accuracy: 0.6598WARNING:tensorflow:Early stopping conditioned on metric `val_acc` which is not available. Available metrics are: loss,accuracy,val_loss,val_accuracy\n"
     ]
    },
    {
     "name": "stderr",
     "output_type": "stream",
     "text": [
      "WARNING:tensorflow:Early stopping conditioned on metric `val_acc` which is not available. Available metrics are: loss,accuracy,val_loss,val_accuracy\n"
     ]
    },
    {
     "name": "stdout",
     "output_type": "stream",
     "text": [
      "13/13 [==============================] - 15s 1s/step - loss: 0.8545 - accuracy: 0.6598 - val_loss: 1.4154 - val_accuracy: 0.3402\n",
      "Epoch 4/35\n",
      "13/13 [==============================] - ETA: 0s - loss: 0.7479 - accuracy: 0.7062WARNING:tensorflow:Early stopping conditioned on metric `val_acc` which is not available. Available metrics are: loss,accuracy,val_loss,val_accuracy\n"
     ]
    },
    {
     "name": "stderr",
     "output_type": "stream",
     "text": [
      "WARNING:tensorflow:Early stopping conditioned on metric `val_acc` which is not available. Available metrics are: loss,accuracy,val_loss,val_accuracy\n"
     ]
    },
    {
     "name": "stdout",
     "output_type": "stream",
     "text": [
      "13/13 [==============================] - 14s 1s/step - loss: 0.7479 - accuracy: 0.7062 - val_loss: 1.4788 - val_accuracy: 0.3093\n",
      "Epoch 5/35\n",
      "13/13 [==============================] - ETA: 0s - loss: 0.6791 - accuracy: 0.6933WARNING:tensorflow:Early stopping conditioned on metric `val_acc` which is not available. Available metrics are: loss,accuracy,val_loss,val_accuracy\n"
     ]
    },
    {
     "name": "stderr",
     "output_type": "stream",
     "text": [
      "WARNING:tensorflow:Early stopping conditioned on metric `val_acc` which is not available. Available metrics are: loss,accuracy,val_loss,val_accuracy\n"
     ]
    },
    {
     "name": "stdout",
     "output_type": "stream",
     "text": [
      "13/13 [==============================] - 14s 1s/step - loss: 0.6791 - accuracy: 0.6933 - val_loss: 1.4663 - val_accuracy: 0.3402\n",
      "Epoch 6/35\n",
      "13/13 [==============================] - ETA: 0s - loss: 0.6570 - accuracy: 0.7088WARNING:tensorflow:Early stopping conditioned on metric `val_acc` which is not available. Available metrics are: loss,accuracy,val_loss,val_accuracy\n"
     ]
    },
    {
     "name": "stderr",
     "output_type": "stream",
     "text": [
      "WARNING:tensorflow:Early stopping conditioned on metric `val_acc` which is not available. Available metrics are: loss,accuracy,val_loss,val_accuracy\n"
     ]
    },
    {
     "name": "stdout",
     "output_type": "stream",
     "text": [
      "13/13 [==============================] - 14s 1s/step - loss: 0.6570 - accuracy: 0.7088 - val_loss: 1.4285 - val_accuracy: 0.2887\n",
      "Epoch 7/35\n",
      "13/13 [==============================] - ETA: 0s - loss: 0.5183 - accuracy: 0.8015WARNING:tensorflow:Early stopping conditioned on metric `val_acc` which is not available. Available metrics are: loss,accuracy,val_loss,val_accuracy\n"
     ]
    },
    {
     "name": "stderr",
     "output_type": "stream",
     "text": [
      "WARNING:tensorflow:Early stopping conditioned on metric `val_acc` which is not available. Available metrics are: loss,accuracy,val_loss,val_accuracy\n"
     ]
    },
    {
     "name": "stdout",
     "output_type": "stream",
     "text": [
      "13/13 [==============================] - 14s 1s/step - loss: 0.5183 - accuracy: 0.8015 - val_loss: 1.5245 - val_accuracy: 0.2990\n",
      "Epoch 8/35\n",
      "13/13 [==============================] - ETA: 0s - loss: 0.5308 - accuracy: 0.7990WARNING:tensorflow:Early stopping conditioned on metric `val_acc` which is not available. Available metrics are: loss,accuracy,val_loss,val_accuracy\n"
     ]
    },
    {
     "name": "stderr",
     "output_type": "stream",
     "text": [
      "WARNING:tensorflow:Early stopping conditioned on metric `val_acc` which is not available. Available metrics are: loss,accuracy,val_loss,val_accuracy\n"
     ]
    },
    {
     "name": "stdout",
     "output_type": "stream",
     "text": [
      "13/13 [==============================] - 14s 1s/step - loss: 0.5308 - accuracy: 0.7990 - val_loss: 1.6511 - val_accuracy: 0.3402\n",
      "Epoch 9/35\n",
      "13/13 [==============================] - ETA: 0s - loss: 0.5729 - accuracy: 0.7809WARNING:tensorflow:Early stopping conditioned on metric `val_acc` which is not available. Available metrics are: loss,accuracy,val_loss,val_accuracy\n"
     ]
    },
    {
     "name": "stderr",
     "output_type": "stream",
     "text": [
      "WARNING:tensorflow:Early stopping conditioned on metric `val_acc` which is not available. Available metrics are: loss,accuracy,val_loss,val_accuracy\n"
     ]
    },
    {
     "name": "stdout",
     "output_type": "stream",
     "text": [
      "13/13 [==============================] - 14s 1s/step - loss: 0.5729 - accuracy: 0.7809 - val_loss: 1.9247 - val_accuracy: 0.3299\n",
      "Epoch 10/35\n",
      "13/13 [==============================] - ETA: 0s - loss: 0.4778 - accuracy: 0.8067WARNING:tensorflow:Early stopping conditioned on metric `val_acc` which is not available. Available metrics are: loss,accuracy,val_loss,val_accuracy\n"
     ]
    },
    {
     "name": "stderr",
     "output_type": "stream",
     "text": [
      "WARNING:tensorflow:Early stopping conditioned on metric `val_acc` which is not available. Available metrics are: loss,accuracy,val_loss,val_accuracy\n"
     ]
    },
    {
     "name": "stdout",
     "output_type": "stream",
     "text": [
      "13/13 [==============================] - 14s 1s/step - loss: 0.4778 - accuracy: 0.8067 - val_loss: 2.5829 - val_accuracy: 0.3402\n",
      "Epoch 11/35\n",
      "13/13 [==============================] - ETA: 0s - loss: 0.7446 - accuracy: 0.7062WARNING:tensorflow:Early stopping conditioned on metric `val_acc` which is not available. Available metrics are: loss,accuracy,val_loss,val_accuracy\n"
     ]
    },
    {
     "name": "stderr",
     "output_type": "stream",
     "text": [
      "WARNING:tensorflow:Early stopping conditioned on metric `val_acc` which is not available. Available metrics are: loss,accuracy,val_loss,val_accuracy\n"
     ]
    },
    {
     "name": "stdout",
     "output_type": "stream",
     "text": [
      "13/13 [==============================] - 14s 1s/step - loss: 0.7446 - accuracy: 0.7062 - val_loss: 2.1016 - val_accuracy: 0.4021\n",
      "Epoch 12/35\n",
      "13/13 [==============================] - ETA: 0s - loss: 0.5474 - accuracy: 0.7500WARNING:tensorflow:Early stopping conditioned on metric `val_acc` which is not available. Available metrics are: loss,accuracy,val_loss,val_accuracy\n"
     ]
    },
    {
     "name": "stderr",
     "output_type": "stream",
     "text": [
      "WARNING:tensorflow:Early stopping conditioned on metric `val_acc` which is not available. Available metrics are: loss,accuracy,val_loss,val_accuracy\n"
     ]
    },
    {
     "name": "stdout",
     "output_type": "stream",
     "text": [
      "13/13 [==============================] - 14s 1s/step - loss: 0.5474 - accuracy: 0.7500 - val_loss: 2.0902 - val_accuracy: 0.2887\n",
      "Epoch 13/35\n",
      "13/13 [==============================] - ETA: 0s - loss: 0.4410 - accuracy: 0.8196WARNING:tensorflow:Early stopping conditioned on metric `val_acc` which is not available. Available metrics are: loss,accuracy,val_loss,val_accuracy\n"
     ]
    },
    {
     "name": "stderr",
     "output_type": "stream",
     "text": [
      "WARNING:tensorflow:Early stopping conditioned on metric `val_acc` which is not available. Available metrics are: loss,accuracy,val_loss,val_accuracy\n"
     ]
    },
    {
     "name": "stdout",
     "output_type": "stream",
     "text": [
      "13/13 [==============================] - 14s 1s/step - loss: 0.4410 - accuracy: 0.8196 - val_loss: 1.7806 - val_accuracy: 0.3196\n",
      "Epoch 14/35\n",
      "13/13 [==============================] - ETA: 0s - loss: 0.4543 - accuracy: 0.8196WARNING:tensorflow:Early stopping conditioned on metric `val_acc` which is not available. Available metrics are: loss,accuracy,val_loss,val_accuracy\n"
     ]
    },
    {
     "name": "stderr",
     "output_type": "stream",
     "text": [
      "WARNING:tensorflow:Early stopping conditioned on metric `val_acc` which is not available. Available metrics are: loss,accuracy,val_loss,val_accuracy\n"
     ]
    },
    {
     "name": "stdout",
     "output_type": "stream",
     "text": [
      "13/13 [==============================] - 14s 1s/step - loss: 0.4543 - accuracy: 0.8196 - val_loss: 2.3690 - val_accuracy: 0.2577\n",
      "Epoch 15/35\n",
      "13/13 [==============================] - ETA: 0s - loss: 0.3817 - accuracy: 0.8351WARNING:tensorflow:Early stopping conditioned on metric `val_acc` which is not available. Available metrics are: loss,accuracy,val_loss,val_accuracy\n"
     ]
    },
    {
     "name": "stderr",
     "output_type": "stream",
     "text": [
      "WARNING:tensorflow:Early stopping conditioned on metric `val_acc` which is not available. Available metrics are: loss,accuracy,val_loss,val_accuracy\n"
     ]
    },
    {
     "name": "stdout",
     "output_type": "stream",
     "text": [
      "13/13 [==============================] - 14s 1s/step - loss: 0.3817 - accuracy: 0.8351 - val_loss: 2.6857 - val_accuracy: 0.3402\n",
      "Epoch 16/35\n",
      "13/13 [==============================] - ETA: 0s - loss: 0.4690 - accuracy: 0.8376WARNING:tensorflow:Early stopping conditioned on metric `val_acc` which is not available. Available metrics are: loss,accuracy,val_loss,val_accuracy\n"
     ]
    },
    {
     "name": "stderr",
     "output_type": "stream",
     "text": [
      "WARNING:tensorflow:Early stopping conditioned on metric `val_acc` which is not available. Available metrics are: loss,accuracy,val_loss,val_accuracy\n"
     ]
    },
    {
     "name": "stdout",
     "output_type": "stream",
     "text": [
      "13/13 [==============================] - 14s 1s/step - loss: 0.4690 - accuracy: 0.8376 - val_loss: 2.8633 - val_accuracy: 0.3402\n",
      "Epoch 17/35\n",
      "13/13 [==============================] - ETA: 0s - loss: 0.5517 - accuracy: 0.7835WARNING:tensorflow:Early stopping conditioned on metric `val_acc` which is not available. Available metrics are: loss,accuracy,val_loss,val_accuracy\n"
     ]
    },
    {
     "name": "stderr",
     "output_type": "stream",
     "text": [
      "WARNING:tensorflow:Early stopping conditioned on metric `val_acc` which is not available. Available metrics are: loss,accuracy,val_loss,val_accuracy\n"
     ]
    },
    {
     "name": "stdout",
     "output_type": "stream",
     "text": [
      "13/13 [==============================] - 13s 1s/step - loss: 0.5517 - accuracy: 0.7835 - val_loss: 7.5327 - val_accuracy: 0.3402\n",
      "Epoch 18/35\n",
      "13/13 [==============================] - ETA: 0s - loss: 0.4753 - accuracy: 0.8196WARNING:tensorflow:Early stopping conditioned on metric `val_acc` which is not available. Available metrics are: loss,accuracy,val_loss,val_accuracy\n"
     ]
    },
    {
     "name": "stderr",
     "output_type": "stream",
     "text": [
      "WARNING:tensorflow:Early stopping conditioned on metric `val_acc` which is not available. Available metrics are: loss,accuracy,val_loss,val_accuracy\n"
     ]
    },
    {
     "name": "stdout",
     "output_type": "stream",
     "text": [
      "13/13 [==============================] - 13s 1s/step - loss: 0.4753 - accuracy: 0.8196 - val_loss: 6.1114 - val_accuracy: 0.3402\n",
      "Epoch 19/35\n",
      "13/13 [==============================] - ETA: 0s - loss: 0.4623 - accuracy: 0.8067WARNING:tensorflow:Early stopping conditioned on metric `val_acc` which is not available. Available metrics are: loss,accuracy,val_loss,val_accuracy\n"
     ]
    },
    {
     "name": "stderr",
     "output_type": "stream",
     "text": [
      "WARNING:tensorflow:Early stopping conditioned on metric `val_acc` which is not available. Available metrics are: loss,accuracy,val_loss,val_accuracy\n"
     ]
    },
    {
     "name": "stdout",
     "output_type": "stream",
     "text": [
      "13/13 [==============================] - 15s 1s/step - loss: 0.4623 - accuracy: 0.8067 - val_loss: 4.9027 - val_accuracy: 0.3402\n",
      "Epoch 20/35\n",
      "13/13 [==============================] - ETA: 0s - loss: 0.4385 - accuracy: 0.8273WARNING:tensorflow:Early stopping conditioned on metric `val_acc` which is not available. Available metrics are: loss,accuracy,val_loss,val_accuracy\n"
     ]
    },
    {
     "name": "stderr",
     "output_type": "stream",
     "text": [
      "WARNING:tensorflow:Early stopping conditioned on metric `val_acc` which is not available. Available metrics are: loss,accuracy,val_loss,val_accuracy\n"
     ]
    },
    {
     "name": "stdout",
     "output_type": "stream",
     "text": [
      "13/13 [==============================] - 14s 1s/step - loss: 0.4385 - accuracy: 0.8273 - val_loss: 2.7382 - val_accuracy: 0.2474\n",
      "Epoch 21/35\n",
      "13/13 [==============================] - ETA: 0s - loss: 0.4137 - accuracy: 0.8299WARNING:tensorflow:Early stopping conditioned on metric `val_acc` which is not available. Available metrics are: loss,accuracy,val_loss,val_accuracy\n"
     ]
    },
    {
     "name": "stderr",
     "output_type": "stream",
     "text": [
      "WARNING:tensorflow:Early stopping conditioned on metric `val_acc` which is not available. Available metrics are: loss,accuracy,val_loss,val_accuracy\n"
     ]
    },
    {
     "name": "stdout",
     "output_type": "stream",
     "text": [
      "13/13 [==============================] - 14s 1s/step - loss: 0.4137 - accuracy: 0.8299 - val_loss: 2.3767 - val_accuracy: 0.2680\n",
      "Epoch 22/35\n",
      "13/13 [==============================] - ETA: 0s - loss: 0.2874 - accuracy: 0.8814WARNING:tensorflow:Early stopping conditioned on metric `val_acc` which is not available. Available metrics are: loss,accuracy,val_loss,val_accuracy\n"
     ]
    },
    {
     "name": "stderr",
     "output_type": "stream",
     "text": [
      "WARNING:tensorflow:Early stopping conditioned on metric `val_acc` which is not available. Available metrics are: loss,accuracy,val_loss,val_accuracy\n"
     ]
    },
    {
     "name": "stdout",
     "output_type": "stream",
     "text": [
      "13/13 [==============================] - 14s 1s/step - loss: 0.2874 - accuracy: 0.8814 - val_loss: 1.9990 - val_accuracy: 0.3299\n",
      "Epoch 23/35\n",
      "13/13 [==============================] - ETA: 0s - loss: 0.5031 - accuracy: 0.8067WARNING:tensorflow:Early stopping conditioned on metric `val_acc` which is not available. Available metrics are: loss,accuracy,val_loss,val_accuracy\n"
     ]
    },
    {
     "name": "stderr",
     "output_type": "stream",
     "text": [
      "WARNING:tensorflow:Early stopping conditioned on metric `val_acc` which is not available. Available metrics are: loss,accuracy,val_loss,val_accuracy\n"
     ]
    },
    {
     "name": "stdout",
     "output_type": "stream",
     "text": [
      "13/13 [==============================] - 13s 1s/step - loss: 0.5031 - accuracy: 0.8067 - val_loss: 1.8331 - val_accuracy: 0.2680\n",
      "Epoch 24/35\n",
      "13/13 [==============================] - ETA: 0s - loss: 0.3918 - accuracy: 0.8325WARNING:tensorflow:Early stopping conditioned on metric `val_acc` which is not available. Available metrics are: loss,accuracy,val_loss,val_accuracy\n"
     ]
    },
    {
     "name": "stderr",
     "output_type": "stream",
     "text": [
      "WARNING:tensorflow:Early stopping conditioned on metric `val_acc` which is not available. Available metrics are: loss,accuracy,val_loss,val_accuracy\n"
     ]
    },
    {
     "name": "stdout",
     "output_type": "stream",
     "text": [
      "13/13 [==============================] - 14s 1s/step - loss: 0.3918 - accuracy: 0.8325 - val_loss: 1.9701 - val_accuracy: 0.3299\n",
      "Epoch 25/35\n",
      "13/13 [==============================] - ETA: 0s - loss: 0.4080 - accuracy: 0.8608WARNING:tensorflow:Early stopping conditioned on metric `val_acc` which is not available. Available metrics are: loss,accuracy,val_loss,val_accuracy\n"
     ]
    },
    {
     "name": "stderr",
     "output_type": "stream",
     "text": [
      "WARNING:tensorflow:Early stopping conditioned on metric `val_acc` which is not available. Available metrics are: loss,accuracy,val_loss,val_accuracy\n"
     ]
    },
    {
     "name": "stdout",
     "output_type": "stream",
     "text": [
      "13/13 [==============================] - 14s 1s/step - loss: 0.4080 - accuracy: 0.8608 - val_loss: 1.5724 - val_accuracy: 0.3505\n",
      "Epoch 26/35\n",
      "13/13 [==============================] - ETA: 0s - loss: 0.2819 - accuracy: 0.8943WARNING:tensorflow:Early stopping conditioned on metric `val_acc` which is not available. Available metrics are: loss,accuracy,val_loss,val_accuracy\n"
     ]
    },
    {
     "name": "stderr",
     "output_type": "stream",
     "text": [
      "WARNING:tensorflow:Early stopping conditioned on metric `val_acc` which is not available. Available metrics are: loss,accuracy,val_loss,val_accuracy\n"
     ]
    },
    {
     "name": "stdout",
     "output_type": "stream",
     "text": [
      "13/13 [==============================] - 16s 1s/step - loss: 0.2819 - accuracy: 0.8943 - val_loss: 1.3164 - val_accuracy: 0.4124\n",
      "Epoch 27/35\n",
      "13/13 [==============================] - ETA: 0s - loss: 0.3648 - accuracy: 0.8454WARNING:tensorflow:Early stopping conditioned on metric `val_acc` which is not available. Available metrics are: loss,accuracy,val_loss,val_accuracy\n"
     ]
    },
    {
     "name": "stderr",
     "output_type": "stream",
     "text": [
      "WARNING:tensorflow:Early stopping conditioned on metric `val_acc` which is not available. Available metrics are: loss,accuracy,val_loss,val_accuracy\n"
     ]
    },
    {
     "name": "stdout",
     "output_type": "stream",
     "text": [
      "13/13 [==============================] - 14s 1s/step - loss: 0.3648 - accuracy: 0.8454 - val_loss: 2.7691 - val_accuracy: 0.2268\n",
      "Epoch 28/35\n",
      "13/13 [==============================] - ETA: 0s - loss: 0.3217 - accuracy: 0.8763WARNING:tensorflow:Early stopping conditioned on metric `val_acc` which is not available. Available metrics are: loss,accuracy,val_loss,val_accuracy\n"
     ]
    },
    {
     "name": "stderr",
     "output_type": "stream",
     "text": [
      "WARNING:tensorflow:Early stopping conditioned on metric `val_acc` which is not available. Available metrics are: loss,accuracy,val_loss,val_accuracy\n"
     ]
    },
    {
     "name": "stdout",
     "output_type": "stream",
     "text": [
      "13/13 [==============================] - 13s 1s/step - loss: 0.3217 - accuracy: 0.8763 - val_loss: 2.2211 - val_accuracy: 0.3918\n",
      "Epoch 29/35\n",
      "13/13 [==============================] - ETA: 0s - loss: 0.3367 - accuracy: 0.8634WARNING:tensorflow:Early stopping conditioned on metric `val_acc` which is not available. Available metrics are: loss,accuracy,val_loss,val_accuracy\n"
     ]
    },
    {
     "name": "stderr",
     "output_type": "stream",
     "text": [
      "WARNING:tensorflow:Early stopping conditioned on metric `val_acc` which is not available. Available metrics are: loss,accuracy,val_loss,val_accuracy\n"
     ]
    },
    {
     "name": "stdout",
     "output_type": "stream",
     "text": [
      "13/13 [==============================] - 13s 1s/step - loss: 0.3367 - accuracy: 0.8634 - val_loss: 2.6546 - val_accuracy: 0.3608\n",
      "Epoch 30/35\n",
      "13/13 [==============================] - ETA: 0s - loss: 0.2587 - accuracy: 0.9046WARNING:tensorflow:Early stopping conditioned on metric `val_acc` which is not available. Available metrics are: loss,accuracy,val_loss,val_accuracy\n"
     ]
    },
    {
     "name": "stderr",
     "output_type": "stream",
     "text": [
      "WARNING:tensorflow:Early stopping conditioned on metric `val_acc` which is not available. Available metrics are: loss,accuracy,val_loss,val_accuracy\n"
     ]
    },
    {
     "name": "stdout",
     "output_type": "stream",
     "text": [
      "13/13 [==============================] - 13s 1s/step - loss: 0.2587 - accuracy: 0.9046 - val_loss: 1.6823 - val_accuracy: 0.4330\n",
      "Epoch 31/35\n",
      "13/13 [==============================] - ETA: 0s - loss: 0.1915 - accuracy: 0.9253WARNING:tensorflow:Early stopping conditioned on metric `val_acc` which is not available. Available metrics are: loss,accuracy,val_loss,val_accuracy\n"
     ]
    },
    {
     "name": "stderr",
     "output_type": "stream",
     "text": [
      "WARNING:tensorflow:Early stopping conditioned on metric `val_acc` which is not available. Available metrics are: loss,accuracy,val_loss,val_accuracy\n"
     ]
    },
    {
     "name": "stdout",
     "output_type": "stream",
     "text": [
      "13/13 [==============================] - 14s 1s/step - loss: 0.1915 - accuracy: 0.9253 - val_loss: 1.7260 - val_accuracy: 0.4330\n",
      "Epoch 32/35\n",
      "13/13 [==============================] - ETA: 0s - loss: 0.3283 - accuracy: 0.8918WARNING:tensorflow:Early stopping conditioned on metric `val_acc` which is not available. Available metrics are: loss,accuracy,val_loss,val_accuracy\n"
     ]
    },
    {
     "name": "stderr",
     "output_type": "stream",
     "text": [
      "WARNING:tensorflow:Early stopping conditioned on metric `val_acc` which is not available. Available metrics are: loss,accuracy,val_loss,val_accuracy\n"
     ]
    },
    {
     "name": "stdout",
     "output_type": "stream",
     "text": [
      "13/13 [==============================] - 14s 1s/step - loss: 0.3283 - accuracy: 0.8918 - val_loss: 3.5987 - val_accuracy: 0.1856\n",
      "Epoch 33/35\n",
      "13/13 [==============================] - ETA: 0s - loss: 0.3396 - accuracy: 0.8737WARNING:tensorflow:Early stopping conditioned on metric `val_acc` which is not available. Available metrics are: loss,accuracy,val_loss,val_accuracy\n"
     ]
    },
    {
     "name": "stderr",
     "output_type": "stream",
     "text": [
      "WARNING:tensorflow:Early stopping conditioned on metric `val_acc` which is not available. Available metrics are: loss,accuracy,val_loss,val_accuracy\n"
     ]
    },
    {
     "name": "stdout",
     "output_type": "stream",
     "text": [
      "13/13 [==============================] - 13s 1s/step - loss: 0.3396 - accuracy: 0.8737 - val_loss: 1.2630 - val_accuracy: 0.5258\n",
      "Epoch 34/35\n",
      "13/13 [==============================] - ETA: 0s - loss: 0.2667 - accuracy: 0.8995WARNING:tensorflow:Early stopping conditioned on metric `val_acc` which is not available. Available metrics are: loss,accuracy,val_loss,val_accuracy\n"
     ]
    },
    {
     "name": "stderr",
     "output_type": "stream",
     "text": [
      "WARNING:tensorflow:Early stopping conditioned on metric `val_acc` which is not available. Available metrics are: loss,accuracy,val_loss,val_accuracy\n"
     ]
    },
    {
     "name": "stdout",
     "output_type": "stream",
     "text": [
      "13/13 [==============================] - 13s 1s/step - loss: 0.2667 - accuracy: 0.8995 - val_loss: 2.7705 - val_accuracy: 0.3711\n",
      "Epoch 35/35\n",
      "13/13 [==============================] - ETA: 0s - loss: 0.2502 - accuracy: 0.8995WARNING:tensorflow:Early stopping conditioned on metric `val_acc` which is not available. Available metrics are: loss,accuracy,val_loss,val_accuracy\n"
     ]
    },
    {
     "name": "stderr",
     "output_type": "stream",
     "text": [
      "WARNING:tensorflow:Early stopping conditioned on metric `val_acc` which is not available. Available metrics are: loss,accuracy,val_loss,val_accuracy\n"
     ]
    },
    {
     "name": "stdout",
     "output_type": "stream",
     "text": [
      "13/13 [==============================] - 13s 1s/step - loss: 0.2502 - accuracy: 0.8995 - val_loss: 1.5823 - val_accuracy: 0.5670\n"
     ]
    }
   ],
   "source": [
    "history = customModel.fit(\n",
    "    x_train,y_train,\n",
    "    epochs=35,\n",
    "    validation_data=(x_val, y_val),\n",
    "    callbacks=[checkpoint,early_stopping])\n"
   ]
  },
  {
   "cell_type": "code",
   "execution_count": 47,
   "metadata": {},
   "outputs": [
    {
     "name": "stdout",
     "output_type": "stream",
     "text": [
      "4/4 [==============================] - 1s 163ms/step - loss: 1.5823 - accuracy: 0.5670\n",
      "Validation accuracy :  0.5670102834701538\n"
     ]
    }
   ],
   "source": [
    "val_loss, val_acc = customModel.evaluate(x_val,y_val)\n",
    "print('Validation accuracy : ', val_acc)"
   ]
  },
  {
   "cell_type": "code",
   "execution_count": 48,
   "metadata": {},
   "outputs": [],
   "source": [
    "acc = history.history['accuracy']\n",
    "val_acc = history.history['val_accuracy']\n",
    "\n",
    "loss = history.history['loss']\n",
    "val_loss = history.history['val_loss']\n"
   ]
  },
  {
   "cell_type": "code",
   "execution_count": 49,
   "metadata": {},
   "outputs": [],
   "source": [
    "import matplotlib.pyplot as plt"
   ]
  },
  {
   "cell_type": "code",
   "execution_count": 50,
   "metadata": {},
   "outputs": [
    {
     "data": {
      "image/png": "[encoded data removed]",
      "text/plain": [
       "<Figure size 800x800 with 2 Axes>"
      ]
     },
     "metadata": {},
     "output_type": "display_data"
    }
   ],
   "source": [
    "plt.figure(figsize=(8, 8))\n",
    "plt.subplot(2, 1, 1)\n",
    "plt.plot(acc, label='Training Accuracy')\n",
    "plt.plot(val_acc, label='Validation Accuracy')\n",
    "plt.legend(loc='lower right')\n",
    "plt.ylabel('Accuracy')\n",
    "plt.ylim([min(plt.ylim()),1])\n",
    "plt.title('Training and Validation Accuracy')\n",
    "plt.subplot(2, 1, 2)\n",
    "plt.plot(loss, label='Training Loss')\n",
    "plt.plot(val_loss, label='Validation Loss')\n",
    "plt.legend(loc='upper right')\n",
    "plt.ylabel('Cross Entropy')\n",
    "plt.ylim([0,max(plt.ylim())])\n",
    "plt.title('Training and Validation Loss')\n",
    "plt.show()"
   ]
  },
  {
   "cell_type": "code",
   "execution_count": 51,
   "metadata": {},
   "outputs": [],
   "source": [
    "import pandas as pd\n",
    "import seaborn as sns\n",
    "     "
   ]
  },
  {
   "cell_type": "code",
   "execution_count": 52,
   "metadata": {},
   "outputs": [
    {
     "name": "stdout",
     "output_type": "stream",
     "text": [
      "4/4 [==============================] - 1s 192ms/step\n"
     ]
    },
    {
     "data": {
      "image/png": "[encoded data removed]",
      "text/plain": [
       "<Figure size 1200x1000 with 2 Axes>"
      ]
     },
     "metadata": {},
     "output_type": "display_data"
    },
    {
     "name": "stdout",
     "output_type": "stream",
     "text": [
      "              precision    recall  f1-score   support\n",
      "\n",
      "           0       1.00      0.07      0.14        27\n",
      "           1       0.67      1.00      0.80        26\n",
      "           2       0.65      0.73      0.69        33\n",
      "           3       0.25      0.11      0.15         9\n",
      "           4       0.13      1.00      0.24         2\n",
      "\n",
      "    accuracy                           0.57        97\n",
      "   macro avg       0.54      0.58      0.40        97\n",
      "weighted avg       0.70      0.57      0.51        97\n",
      "\n"
     ]
    }
   ],
   "source": [
    "from sklearn.metrics import confusion_matrix,classification_report\n",
    "valid_pres=customModel.predict(x_val)\n",
    "valid_pred = [np.argmax(pred) for pred in valid_pres]\n",
    "y_val = np.argmax(y_val, axis=1)\n",
    "cm =confusion_matrix(y_val,valid_pred)\n",
    "plt.figure(figsize = (12, 10))\n",
    "cm = pd.DataFrame(cm , index = [i for i in class_names] , columns = [i for i in class_names])\n",
    "#cm = cm.astype('float') / cm.sum(axis=1)[:, np.newaxis]\n",
    "sns.heatmap(cm, linecolor='white', cmap='Blues', linewidth=1, annot=True, fmt='.2f')\n",
    "plt.title('Confusion Matrix', size=20)\n",
    "plt.xlabel('Predicted Labels', size=14)\n",
    "plt.ylabel('Actual Labels', size=14)\n",
    "plt.show()\n",
    "print(classification_report(y_val,valid_pred))"
   ]
  },
  {
   "cell_type": "code",
   "execution_count": 54,
   "metadata": {},
   "outputs": [
    {
     "name": "stdout",
     "output_type": "stream",
     "text": [
      "4/4 [==============================] - 1s 227ms/step - loss: 1.6532 - accuracy: 0.5246\n"
     ]
    }
   ],
   "source": [
    "score = customModel.evaluate(x_test, y_test)"
   ]
  },
  {
   "cell_type": "code",
   "execution_count": 55,
   "metadata": {},
   "outputs": [
    {
     "name": "stdout",
     "output_type": "stream",
     "text": [
      "Test Loss: 1.6531609296798706\n",
      "Test accuracy: 0.5245901346206665\n"
     ]
    }
   ],
   "source": [
    "\n",
    "print('Test Loss:', score[0])\n",
    "print('Test accuracy:', score[1])"
   ]
  },
  {
   "cell_type": "code",
   "execution_count": 56,
   "metadata": {},
   "outputs": [
    {
     "name": "stdout",
     "output_type": "stream",
     "text": [
      "INFO:tensorflow:Assets written to: Citrus_Saved_Model\\assets\n"
     ]
    },
    {
     "name": "stderr",
     "output_type": "stream",
     "text": [
      "INFO:tensorflow:Assets written to: Citrus_Saved_Model\\assets\n"
     ]
    }
   ],
   "source": [
    "customModel.save('Citrus_Saved_Model')"
   ]
  },
  {
   "cell_type": "code",
   "execution_count": 57,
   "metadata": {},
   "outputs": [],
   "source": [
    "import tensorflow as tf\n",
    "import numpy as np\n",
    "from PIL import Image\n",
    "import tensorflow as tf\n",
    "model = tf.keras.models.load_model('Citrus_Saved_Model')"
   ]
  },
  {
   "cell_type": "code",
   "execution_count": 58,
   "metadata": {},
   "outputs": [],
   "source": [
    "def preprocess_image(image_path):\n",
    "    img = Image.open(image_path)\n",
    "    img = img.resize((32, 32))\n",
    "    \n",
    "    # Convert to RGB in case the image has an alpha channel\n",
    "    img = img.convert('RGB')\n",
    "    \n",
    "    img_array = np.array(img)\n",
    "    img_array = img_array.astype('float32') / 255.0\n",
    "    img_array = np.expand_dims(img_array, axis=0)\n",
    "    return img_array\n"
   ]
  },
  {
   "cell_type": "code",
   "execution_count": 59,
   "metadata": {},
   "outputs": [],
   "source": [
    "# List of class names\n",
    "class_names = ['Black spot','Canker','Greening','Healthy','Melanose']"
   ]
  },
  {
   "cell_type": "code",
   "execution_count": null,
   "metadata": {},
   "outputs": [],
   "source": [
    "# Predict the class\n",
    "image_path = 'flowers/rose/12240303_80d87f77a3_n.jpg'\n",
    "input_image = preprocess_image(image_path)\n",
    "predictions = model.predict(input_image)\n",
    "\n",
    "predicted_class = np.argmax(predictions)\n",
    "predicted_class_name = class_names[predicted_class]\n",
    "\n",
    "print(\"Predicted class:\", predicted_class_name)"
   ]
  }
 ],
 "metadata": {
  "kernelspec": {
   "display_name": "venv",
   "language": "python",
   "name": "python3"
  },
  "language_info": {
   "codemirror_mode": {
    "name": "ipython",
    "version": 3
   },
   "file_extension": ".py",
   "mimetype": "text/x-python",
   "name": "python",
   "nbconvert_exporter": "python",
   "pygments_lexer": "ipython3",
   "version": "3.11.3"
  }
 },
 "nbformat": 4,
 "nbformat_minor": 2
}
